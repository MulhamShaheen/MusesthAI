{
 "cells": [
  {
   "cell_type": "code",
   "source": [
    "import ast\n",
    "\n",
    "import pandas as pd\n",
    "import numpy as np\n",
    "from scipy.optimize import linear_sum_assignment\n",
    "from sklearn.metrics.pairwise import cosine_similarity\n",
    "\n",
    "from scripts.create_embeddings_dataset import batch_create_images_dataset"
   ],
   "metadata": {
    "collapsed": false
   },
   "outputs": [],
   "execution_count": null
  },
  {
   "cell_type": "code",
   "source": "batch_create_images_dataset(images_dir='../images/imagesf2', output_dir=\"../images\", batch_size=10, count=20)",
   "metadata": {
    "collapsed": false,
    "is_executing": true
   },
   "outputs": [],
   "execution_count": null
  },
  {
   "cell_type": "code",
   "source": [
    "images_df = pd.read_csv(\"../images/images_dataset.csv\")\n",
    "music_df = pd.read_csv(\"../music/audio_dataset.csv\")"
   ],
   "metadata": {
    "collapsed": false,
    "is_executing": true
   },
   "outputs": [],
   "execution_count": null
  },
  {
   "cell_type": "code",
   "source": [
    "def match_datasets(image_embeddings_df: pd.DataFrame, music_embeddings_df: pd.DataFrame) -> pd.DataFrame:\n",
    "    image_embeddings = image_embeddings_df[[\"embeddings\"]]\n",
    "    music_embeddings = music_embeddings_df[[\"embeddings\"]]\n",
    "\n",
    "    image_embeddings = np.array([np.array(ast.literal_eval(e)) for e in image_embeddings[\"embeddings\"].tolist()])\n",
    "    music_embeddings = np.array([np.array(ast.literal_eval(e)) for e in music_embeddings[\"embeddings\"].tolist()])\n",
    "\n",
    "    similarity_matrix = cosine_similarity(image_embeddings, music_embeddings)\n",
    "\n",
    "    cost_matrix = 1 - similarity_matrix\n",
    "    image_ind, music_ind = linear_sum_assignment(cost_matrix)\n",
    "\n",
    "    matched_pairs = pd.DataFrame()\n",
    "    matched_pairs[\"image_path\"] = image_embeddings_df.iloc[image_ind][\"image_path\"].values\n",
    "    matched_pairs[\"audio_path\"] = music_embeddings_df.iloc[music_ind][\"audio_path\"].values\n",
    "    matched_pairs[\"music_embedding\"] = music_embeddings_df.iloc[music_ind][\"embeddings\"].values\n",
    "    matched_pairs[\"image_embedding\"] = image_embeddings_df.iloc[image_ind][\"embeddings\"].values\n",
    "    matched_pairs[\"score\"] = 1 - cost_matrix[image_ind, music_ind]\n",
    "\n",
    "    return matched_pairs"
   ],
   "metadata": {
    "collapsed": false
   },
   "outputs": [],
   "execution_count": null
  },
  {
   "cell_type": "code",
   "source": [
    "match_datasets(images_df, music_df).head(5)"
   ],
   "metadata": {
    "collapsed": false
   },
   "outputs": [],
   "execution_count": null
  }
 ],
 "metadata": {
  "kernelspec": {
   "display_name": "Python 3",
   "language": "python",
   "name": "python3"
  },
  "language_info": {
   "codemirror_mode": {
    "name": "ipython",
    "version": 2
   },
   "file_extension": ".py",
   "mimetype": "text/x-python",
   "name": "python",
   "nbconvert_exporter": "python",
   "pygments_lexer": "ipython2",
   "version": "2.7.6"
  }
 },
 "nbformat": 4,
 "nbformat_minor": 0
}
