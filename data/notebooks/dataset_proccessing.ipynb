{
 "cells": [
  {
   "cell_type": "code",
   "execution_count": 14,
   "outputs": [],
   "source": [
    "import ast\n",
    "\n",
    "import pandas as pd\n",
    "import numpy as np\n",
    "from scipy.optimize import linear_sum_assignment\n",
    "from sklearn.metrics.pairwise import cosine_similarity\n",
    "\n",
    "from scripts.create_embeddings_dataset import batch_create_images_dataset"
   ],
   "metadata": {
    "collapsed": false,
    "ExecuteTime": {
     "end_time": "2025-03-02T19:46:26.697233700Z",
     "start_time": "2025-03-02T19:46:26.675601700Z"
    }
   }
  },
  {
   "cell_type": "code",
   "execution_count": null,
   "outputs": [],
   "source": [
    "batch_create_images_dataset(images_dir='../images/imagesf2', output_dir=\"../images\", batch_size=50, count=5000)"
   ],
   "metadata": {
    "collapsed": false
   }
  },
  {
   "cell_type": "code",
   "execution_count": 16,
   "outputs": [],
   "source": [
    "images_df = pd.read_csv(\"../images/images_dataset.csv\")\n",
    "music_df = pd.read_csv(\"../music/audio_dataset.csv\")"
   ],
   "metadata": {
    "collapsed": false,
    "ExecuteTime": {
     "end_time": "2025-03-02T19:47:16.048529600Z",
     "start_time": "2025-03-02T19:47:15.927028Z"
    }
   }
  },
  {
   "cell_type": "code",
   "execution_count": 19,
   "outputs": [],
   "source": [
    "def match_datasets(image_embeddings_df: pd.DataFrame, music_embeddings_df: pd.DataFrame) -> pd.DataFrame:\n",
    "    image_embeddings = image_embeddings_df[[\"embeddings\"]]\n",
    "    music_embeddings = music_embeddings_df[[\"embeddings\"]]\n",
    "\n",
    "    image_embeddings = np.array([np.array(ast.literal_eval(e)) for e in image_embeddings[\"embeddings\"].tolist()])\n",
    "    music_embeddings = np.array([np.array(ast.literal_eval(e)) for e in music_embeddings[\"embeddings\"].tolist()])\n",
    "\n",
    "    similarity_matrix = cosine_similarity(image_embeddings, music_embeddings)\n",
    "\n",
    "    cost_matrix = 1 - similarity_matrix\n",
    "    image_ind, music_ind = linear_sum_assignment(cost_matrix)\n",
    "\n",
    "    matched_pairs = pd.DataFrame()\n",
    "    matched_pairs[\"image_path\"] = image_embeddings_df.iloc[image_ind][\"image_path\"].values\n",
    "    matched_pairs[\"audio_path\"] = music_embeddings_df.iloc[music_ind][\"audio_path\"].values\n",
    "    matched_pairs[\"music_embedding\"] = music_embeddings_df.iloc[music_ind][\"embeddings\"].values\n",
    "    matched_pairs[\"image_embedding\"] = image_embeddings_df.iloc[image_ind][\"embeddings\"].values\n",
    "    matched_pairs[\"score\"] = 1 - cost_matrix[image_ind, music_ind]\n",
    "\n",
    "    return matched_pairs"
   ],
   "metadata": {
    "collapsed": false,
    "ExecuteTime": {
     "end_time": "2025-03-02T19:47:40.782080100Z",
     "start_time": "2025-03-02T19:47:40.773031900Z"
    }
   }
  },
  {
   "cell_type": "code",
   "execution_count": 21,
   "outputs": [
    {
     "data": {
      "text/plain": "                                          image_path  \\\n0                   antoni-tapies_sous-zero-1979.jpg   \n1  arkhip-kuindzhi_fishing-on-the-black-sea-1900.jpg   \n2                   chris-ofili_blue-devils-2014.jpg   \n3       danielson-gambogi-elin_pianospelare-1907.jpg   \n4        dorothy-lathrop_the-fairy-circus-1931-1.jpg   \n\n                                          audio_path  \\\n0      ../data/music\\rock\\eddy - Pure Adrenaline.mp3   \n1  ../data/music\\electronic\\Vernon Lenoir - Gora.mp3   \n2  ../data/music\\classical\\Paul _Wine_ Jones - Pu...   \n3  ../data/music\\classical\\Aaron Dunn - Minuet - ...   \n4  ../data/music\\rock\\Jon Shuemaker - Break it Do...   \n\n                                     music_embedding  \\\n0  [0.2464916706085205, 0.35366353392601013, -0.4...   \n1  [-0.16167239844799042, 0.2554575502872467, -0....   \n2  [0.5296326279640198, 0.010789294727146626, -0....   \n3  [-0.12106630951166153, 0.6024715900421143, -0....   \n4  [0.36720386147499084, 0.3295438587665558, 0.22...   \n\n                                     image_embedding     score  \n0  [0.010796519927680492, -0.03631719946861267, 0...  0.192772  \n1  [-0.017395511269569397, -0.019446855410933495,...  0.189284  \n2  [0.024471327662467957, -0.027269702404737473, ...  0.082877  \n3  [-0.012119156308472157, -0.00800519809126854, ...  0.335021  \n4  [-0.020545760169625282, -0.0056816828437149525...  0.228879  ",
      "text/html": "<div>\n<style scoped>\n    .dataframe tbody tr th:only-of-type {\n        vertical-align: middle;\n    }\n\n    .dataframe tbody tr th {\n        vertical-align: top;\n    }\n\n    .dataframe thead th {\n        text-align: right;\n    }\n</style>\n<table border=\"1\" class=\"dataframe\">\n  <thead>\n    <tr style=\"text-align: right;\">\n      <th></th>\n      <th>image_path</th>\n      <th>audio_path</th>\n      <th>music_embedding</th>\n      <th>image_embedding</th>\n      <th>score</th>\n    </tr>\n  </thead>\n  <tbody>\n    <tr>\n      <th>0</th>\n      <td>antoni-tapies_sous-zero-1979.jpg</td>\n      <td>../data/music\\rock\\eddy - Pure Adrenaline.mp3</td>\n      <td>[0.2464916706085205, 0.35366353392601013, -0.4...</td>\n      <td>[0.010796519927680492, -0.03631719946861267, 0...</td>\n      <td>0.192772</td>\n    </tr>\n    <tr>\n      <th>1</th>\n      <td>arkhip-kuindzhi_fishing-on-the-black-sea-1900.jpg</td>\n      <td>../data/music\\electronic\\Vernon Lenoir - Gora.mp3</td>\n      <td>[-0.16167239844799042, 0.2554575502872467, -0....</td>\n      <td>[-0.017395511269569397, -0.019446855410933495,...</td>\n      <td>0.189284</td>\n    </tr>\n    <tr>\n      <th>2</th>\n      <td>chris-ofili_blue-devils-2014.jpg</td>\n      <td>../data/music\\classical\\Paul _Wine_ Jones - Pu...</td>\n      <td>[0.5296326279640198, 0.010789294727146626, -0....</td>\n      <td>[0.024471327662467957, -0.027269702404737473, ...</td>\n      <td>0.082877</td>\n    </tr>\n    <tr>\n      <th>3</th>\n      <td>danielson-gambogi-elin_pianospelare-1907.jpg</td>\n      <td>../data/music\\classical\\Aaron Dunn - Minuet - ...</td>\n      <td>[-0.12106630951166153, 0.6024715900421143, -0....</td>\n      <td>[-0.012119156308472157, -0.00800519809126854, ...</td>\n      <td>0.335021</td>\n    </tr>\n    <tr>\n      <th>4</th>\n      <td>dorothy-lathrop_the-fairy-circus-1931-1.jpg</td>\n      <td>../data/music\\rock\\Jon Shuemaker - Break it Do...</td>\n      <td>[0.36720386147499084, 0.3295438587665558, 0.22...</td>\n      <td>[-0.020545760169625282, -0.0056816828437149525...</td>\n      <td>0.228879</td>\n    </tr>\n  </tbody>\n</table>\n</div>"
     },
     "execution_count": 21,
     "metadata": {},
     "output_type": "execute_result"
    }
   ],
   "source": [
    "match_datasets(images_df, music_df).head(5)"
   ],
   "metadata": {
    "collapsed": false,
    "ExecuteTime": {
     "end_time": "2025-03-02T20:11:37.343620800Z",
     "start_time": "2025-03-02T20:11:35.037915600Z"
    }
   }
  }
 ],
 "metadata": {
  "kernelspec": {
   "display_name": "Python 3",
   "language": "python",
   "name": "python3"
  },
  "language_info": {
   "codemirror_mode": {
    "name": "ipython",
    "version": 2
   },
   "file_extension": ".py",
   "mimetype": "text/x-python",
   "name": "python",
   "nbconvert_exporter": "python",
   "pygments_lexer": "ipython2",
   "version": "2.7.6"
  }
 },
 "nbformat": 4,
 "nbformat_minor": 0
}
