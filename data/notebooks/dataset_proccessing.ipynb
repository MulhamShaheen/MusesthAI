{
 "cells": [
  {
   "cell_type": "code",
   "source": [
    "import ast\n",
    "import os\n",
    "\n",
    "import pandas as pd\n",
    "import numpy as np\n",
    "from scipy.optimize import linear_sum_assignment\n",
    "from sklearn.metrics.pairwise import cosine_similarity\n",
    "\n",
    "from scripts.create_embeddings_dataset import batch_create_images_dataset, create_audio_dataset, \\\n",
    "    batch_create_audio_embeddings"
   ],
   "metadata": {
    "collapsed": false
   },
   "outputs": [],
   "execution_count": null
  },
  {
   "metadata": {},
   "cell_type": "markdown",
   "source": "# Images dataset"
  },
  {
   "metadata": {},
   "cell_type": "code",
   "source": "output_dir = \"../images\"",
   "outputs": [],
   "execution_count": null
  },
  {
   "cell_type": "code",
   "source": [
    "batch_create_images_dataset(images_dir='../images/imagesf2', output_dir=\"../images\", batch_size=10, count=1000,\n",
    "                            offset=4500)"
   ],
   "metadata": {
    "collapsed": false,
    "is_executing": true
   },
   "outputs": [],
   "execution_count": null
  },
  {
   "metadata": {},
   "cell_type": "code",
   "source": [
    "batches = [pklf for pklf in os.listdir(output_dir) if \"images_dataset\" in pklf and pklf.endswith(\".pkl\")]\n",
    "dfs = []\n",
    "for batch in batches:\n",
    "    dfs.append(pd.read_pickle(os.path.join(output_dir, batch)))\n",
    "\n",
    "images_df = pd.concat(dfs, ignore_index=True)\n",
    "images_df.drop_duplicates(subset=[\"image_path\"], inplace=True)\n",
    "images_df.to_pickle(os.path.join(output_dir, \"images_dataset_concat.pkl\"))"
   ],
   "outputs": [],
   "execution_count": null
  },
  {
   "metadata": {},
   "cell_type": "markdown",
   "source": "# Audio dataset"
  },
  {
   "metadata": {},
   "cell_type": "code",
   "source": [
    "audio_dir = \"../music/fma_small\"\n",
    "output_dir = \"../music/\""
   ],
   "outputs": [],
   "execution_count": null
  },
  {
   "metadata": {},
   "cell_type": "code",
   "source": [
    "music_df = create_audio_dataset(audio_dir, output_path=\"../music/music_df.csv\",count=10000)\n",
    "music_df.head()"
   ],
   "outputs": [],
   "execution_count": null
  },
  {
   "metadata": {},
   "cell_type": "code",
   "source": "batch_create_audio_embeddings(audio_df_path=\"../music/music_df.csv\", output_dir=\"../music\", batch_size=25, count=2000, offset=1700)",
   "outputs": [],
   "execution_count": null
  },
  {
   "metadata": {},
   "cell_type": "code",
   "source": [
    "batches = [pklf for pklf in os.listdir(output_dir) if \"audio_dataset\" in pklf and pklf.endswith(\".pkl\")]\n",
    "dfs = []\n",
    "for batch in batches:\n",
    "    dfs.append(pd.read_pickle(os.path.join(output_dir, batch)))\n",
    "\n",
    "images_df = pd.concat(dfs, ignore_index=True)\n",
    "images_df.drop_duplicates(subset=[\"audio_path\"], inplace=True)\n",
    "images_df.to_pickle(os.path.join(output_dir, \"audio_dataset_concat.pkl\"))"
   ],
   "outputs": [],
   "execution_count": null
  },
  {
   "metadata": {},
   "cell_type": "markdown",
   "source": "# Match images and audio"
  },
  {
   "metadata": {},
   "cell_type": "code",
   "source": [
    "music_dataset_path = \"../music/audio_dataset_concat.pkl\"\n",
    "images_dataset_path = \"../images/images_dataset_concat.pkl\"\n",
    "\n",
    "music_df = pd.read_pickle(music_dataset_path)\n",
    "images_df = pd.read_pickle(images_dataset_path)\n",
    "\n",
    "print(\"Images dataset size: \", len(images_df))\n",
    "print(\"Audio dataset size: \", len(music_df))"
   ],
   "outputs": [],
   "execution_count": null
  },
  {
   "cell_type": "code",
   "source": [
    "def match_datasets(image_embeddings_df: pd.DataFrame, music_embeddings_df: pd.DataFrame) -> pd.DataFrame:\n",
    "    image_embeddings = image_embeddings_df[[\"embeddings\"]]\n",
    "    music_embeddings = music_embeddings_df[[\"embeddings\"]]\n",
    "\n",
    "    image_embeddings = np.array([np.array(e) for e in image_embeddings[\"embeddings\"].tolist()])\n",
    "    music_embeddings = np.array([np.array(e) for e in music_embeddings[\"embeddings\"].tolist()])\n",
    "\n",
    "    similarity_matrix = cosine_similarity(image_embeddings, music_embeddings)\n",
    "\n",
    "    cost_matrix = 1 - similarity_matrix\n",
    "    image_ind, music_ind = linear_sum_assignment(cost_matrix)\n",
    "\n",
    "    matched_pairs = pd.DataFrame()\n",
    "    matched_pairs[\"image_path\"] = image_embeddings_df.iloc[image_ind][\"image_path\"].values\n",
    "    matched_pairs[\"audio_path\"] = music_embeddings_df.iloc[music_ind][\"audio_path\"].values\n",
    "    matched_pairs[\"music_embedding\"] = music_embeddings_df.iloc[music_ind][\"embeddings\"].values\n",
    "    matched_pairs[\"image_embedding\"] = image_embeddings_df.iloc[image_ind][\"embeddings\"].values\n",
    "    matched_pairs[\"score\"] = 1 - cost_matrix[image_ind, music_ind]\n",
    "\n",
    "    return matched_pairs"
   ],
   "metadata": {
    "collapsed": false
   },
   "outputs": [],
   "execution_count": null
  },
  {
   "cell_type": "code",
   "source": [
    "matched_df = match_datasets(images_df, music_df)\n",
    "matched_df.sort_values(by=\"score\", ascending=False, inplace=True)\n",
    "matched_df.reset_index(drop=True, inplace=True)"
   ],
   "metadata": {
    "collapsed": false
   },
   "outputs": [],
   "execution_count": null
  },
  {
   "metadata": {},
   "cell_type": "code",
   "source": "matched_df.head()",
   "outputs": [],
   "execution_count": null
  },
  {
   "metadata": {},
   "cell_type": "code",
   "source": "",
   "outputs": [],
   "execution_count": null
  }
 ],
 "metadata": {
  "kernelspec": {
   "display_name": "Python 3",
   "language": "python",
   "name": "python3"
  },
  "language_info": {
   "codemirror_mode": {
    "name": "ipython",
    "version": 2
   },
   "file_extension": ".py",
   "mimetype": "text/x-python",
   "name": "python",
   "nbconvert_exporter": "python",
   "pygments_lexer": "ipython2",
   "version": "2.7.6"
  }
 },
 "nbformat": 4,
 "nbformat_minor": 0
}
