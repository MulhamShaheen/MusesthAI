{
 "cells": [
  {
   "cell_type": "code",
   "execution_count": 7,
   "metadata": {
    "collapsed": true,
    "ExecuteTime": {
     "end_time": "2025-01-24T00:51:35.233712700Z",
     "start_time": "2025-01-24T00:51:35.183570400Z"
    }
   },
   "outputs": [],
   "source": [
    "import pandas as pd\n",
    "import numpy as np\n"
   ]
  },
  {
   "cell_type": "code",
   "execution_count": 8,
   "outputs": [
    {
     "data": {
      "text/plain": "                             image_path    genre     score\n0  a-mishra_expression-of-sadness-i.jpg    metal  0.167402\n1  a-mishra_expression-of-sadness-i.jpg     rock  0.156467\n2  a-mishra_expression-of-sadness-i.jpg    blues  0.107376\n3  a-mishra_expression-of-sadness-i.jpg  hip-Hop  0.080610\n4  a-mishra_expression-of-sadness-i.jpg  country  0.062826",
      "text/html": "<div>\n<style scoped>\n    .dataframe tbody tr th:only-of-type {\n        vertical-align: middle;\n    }\n\n    .dataframe tbody tr th {\n        vertical-align: top;\n    }\n\n    .dataframe thead th {\n        text-align: right;\n    }\n</style>\n<table border=\"1\" class=\"dataframe\">\n  <thead>\n    <tr style=\"text-align: right;\">\n      <th></th>\n      <th>image_path</th>\n      <th>genre</th>\n      <th>score</th>\n    </tr>\n  </thead>\n  <tbody>\n    <tr>\n      <th>0</th>\n      <td>a-mishra_expression-of-sadness-i.jpg</td>\n      <td>metal</td>\n      <td>0.167402</td>\n    </tr>\n    <tr>\n      <th>1</th>\n      <td>a-mishra_expression-of-sadness-i.jpg</td>\n      <td>rock</td>\n      <td>0.156467</td>\n    </tr>\n    <tr>\n      <th>2</th>\n      <td>a-mishra_expression-of-sadness-i.jpg</td>\n      <td>blues</td>\n      <td>0.107376</td>\n    </tr>\n    <tr>\n      <th>3</th>\n      <td>a-mishra_expression-of-sadness-i.jpg</td>\n      <td>hip-Hop</td>\n      <td>0.080610</td>\n    </tr>\n    <tr>\n      <th>4</th>\n      <td>a-mishra_expression-of-sadness-i.jpg</td>\n      <td>country</td>\n      <td>0.062826</td>\n    </tr>\n  </tbody>\n</table>\n</div>"
     },
     "execution_count": 8,
     "metadata": {},
     "output_type": "execute_result"
    }
   ],
   "source": [
    "images_df = pd.read_csv('../data/images/images_dataset.csv')\n",
    "genre_df = pd.read_csv('../data/text/genre_embeddings.csv')\n",
    "audio_df = pd.read_csv('../data/music/audio_dataset.csv')\n",
    "images_genre_df = pd.read_csv('../data/images_genre_scores.csv')\n",
    "images_genre_df.head()"
   ],
   "metadata": {
    "collapsed": false,
    "ExecuteTime": {
     "end_time": "2025-01-24T00:51:35.469744700Z",
     "start_time": "2025-01-24T00:51:35.348758200Z"
    }
   }
  },
  {
   "cell_type": "code",
   "execution_count": 9,
   "outputs": [
    {
     "data": {
      "text/plain": "                             image_path  \\\n0  a-mishra_expression-of-sadness-i.jpg   \n1  a-mishra_expression-of-sadness-i.jpg   \n2  a-mishra_expression-of-sadness-i.jpg   \n3  a-mishra_expression-of-sadness-i.jpg   \n4  a-mishra_expression-of-sadness-i.jpg   \n\n                                          embeddings    genre     score  \n0  [0.0019837517756968737, -0.030643584206700325,...    metal  0.167402  \n1  [0.0019837517756968737, -0.030643584206700325,...     rock  0.156467  \n2  [0.0019837517756968737, -0.030643584206700325,...    blues  0.107376  \n3  [0.0019837517756968737, -0.030643584206700325,...  hip-Hop  0.080610  \n4  [0.0019837517756968737, -0.030643584206700325,...  country  0.062826  ",
      "text/html": "<div>\n<style scoped>\n    .dataframe tbody tr th:only-of-type {\n        vertical-align: middle;\n    }\n\n    .dataframe tbody tr th {\n        vertical-align: top;\n    }\n\n    .dataframe thead th {\n        text-align: right;\n    }\n</style>\n<table border=\"1\" class=\"dataframe\">\n  <thead>\n    <tr style=\"text-align: right;\">\n      <th></th>\n      <th>image_path</th>\n      <th>embeddings</th>\n      <th>genre</th>\n      <th>score</th>\n    </tr>\n  </thead>\n  <tbody>\n    <tr>\n      <th>0</th>\n      <td>a-mishra_expression-of-sadness-i.jpg</td>\n      <td>[0.0019837517756968737, -0.030643584206700325,...</td>\n      <td>metal</td>\n      <td>0.167402</td>\n    </tr>\n    <tr>\n      <th>1</th>\n      <td>a-mishra_expression-of-sadness-i.jpg</td>\n      <td>[0.0019837517756968737, -0.030643584206700325,...</td>\n      <td>rock</td>\n      <td>0.156467</td>\n    </tr>\n    <tr>\n      <th>2</th>\n      <td>a-mishra_expression-of-sadness-i.jpg</td>\n      <td>[0.0019837517756968737, -0.030643584206700325,...</td>\n      <td>blues</td>\n      <td>0.107376</td>\n    </tr>\n    <tr>\n      <th>3</th>\n      <td>a-mishra_expression-of-sadness-i.jpg</td>\n      <td>[0.0019837517756968737, -0.030643584206700325,...</td>\n      <td>hip-Hop</td>\n      <td>0.080610</td>\n    </tr>\n    <tr>\n      <th>4</th>\n      <td>a-mishra_expression-of-sadness-i.jpg</td>\n      <td>[0.0019837517756968737, -0.030643584206700325,...</td>\n      <td>country</td>\n      <td>0.062826</td>\n    </tr>\n  </tbody>\n</table>\n</div>"
     },
     "execution_count": 9,
     "metadata": {},
     "output_type": "execute_result"
    }
   ],
   "source": [
    "images_genre_df = images_df.merge(images_genre_df, on='image_path')\n",
    "images_genre_df.head()"
   ],
   "metadata": {
    "collapsed": false,
    "ExecuteTime": {
     "end_time": "2025-01-24T00:51:35.630599900Z",
     "start_time": "2025-01-24T00:51:35.565577500Z"
    }
   }
  },
  {
   "cell_type": "markdown",
   "source": [
    "# Metrics"
   ],
   "metadata": {
    "collapsed": false
   }
  },
  {
   "cell_type": "code",
   "execution_count": 10,
   "outputs": [],
   "source": [
    "from metrics.genre import top_k_genre_accuracy, map\n",
    "from embeddings.scorer import EmbeddingScorer\n",
    "from embeddings.embedder import ImageBindEmbedder\n",
    "\n",
    "scorer = EmbeddingScorer()"
   ],
   "metadata": {
    "collapsed": false,
    "ExecuteTime": {
     "end_time": "2025-01-24T00:51:35.944024800Z",
     "start_time": "2025-01-24T00:51:35.926451600Z"
    }
   }
  },
  {
   "cell_type": "code",
   "execution_count": 11,
   "outputs": [],
   "source": [
    "import ast\n",
    "\n",
    "results = {\"audio_id\": [], \"image_id\": [], \"audio_path\": [], \"image_path\": [], \"score\": []}\n",
    "image_embs = []\n",
    "for i, row in images_df.iterrows():\n",
    "    list_from_str = ast.literal_eval(row['embeddings'])\n",
    "    image_embs.append(np.array(list_from_str))\n",
    "image_embs = np.array(image_embs)\n",
    "\n",
    "\n",
    "for i, row in audio_df.iterrows():\n",
    "    list_from_str = ast.literal_eval(row['embeddings'])\n",
    "    emb = np.array(list_from_str).reshape(1, -1)\n",
    "    top_k, scores = scorer.find_topk(query=emb, targets=image_embs, top_k=3)\n",
    "    for idx, score in zip(top_k, scores):\n",
    "        results[\"audio_id\"].append(i)\n",
    "        results[\"image_id\"].append(idx)\n",
    "        results[\"audio_path\"].append(row[\"audio_path\"])\n",
    "        results[\"image_path\"].append(images_df.iloc[idx][\"image_path\"])\n",
    "        results[\"score\"].append(score)"
   ],
   "metadata": {
    "collapsed": false,
    "ExecuteTime": {
     "end_time": "2025-01-24T00:51:38.805088400Z",
     "start_time": "2025-01-24T00:51:36.423258700Z"
    }
   }
  },
  {
   "cell_type": "code",
   "execution_count": 12,
   "outputs": [
    {
     "data": {
      "text/plain": "   audio_id  image_id                                         audio_path  \\\n0         0       293  ../data/music\\blues\\Andrew Christopher Smith -...   \n1         0        91  ../data/music\\blues\\Andrew Christopher Smith -...   \n2         0       491  ../data/music\\blues\\Andrew Christopher Smith -...   \n\n                                     image_path     score  genre  \n0             lilla-cabot-perry_the-cellist.jpg  0.343190  blues  \n1  danielson-gambogi-elin_pianospelare-1907.jpg  0.271812  blues  \n2            william-merritt-chase_the-song.jpg  0.213920  blues  ",
      "text/html": "<div>\n<style scoped>\n    .dataframe tbody tr th:only-of-type {\n        vertical-align: middle;\n    }\n\n    .dataframe tbody tr th {\n        vertical-align: top;\n    }\n\n    .dataframe thead th {\n        text-align: right;\n    }\n</style>\n<table border=\"1\" class=\"dataframe\">\n  <thead>\n    <tr style=\"text-align: right;\">\n      <th></th>\n      <th>audio_id</th>\n      <th>image_id</th>\n      <th>audio_path</th>\n      <th>image_path</th>\n      <th>score</th>\n      <th>genre</th>\n    </tr>\n  </thead>\n  <tbody>\n    <tr>\n      <th>0</th>\n      <td>0</td>\n      <td>293</td>\n      <td>../data/music\\blues\\Andrew Christopher Smith -...</td>\n      <td>lilla-cabot-perry_the-cellist.jpg</td>\n      <td>0.343190</td>\n      <td>blues</td>\n    </tr>\n    <tr>\n      <th>1</th>\n      <td>0</td>\n      <td>91</td>\n      <td>../data/music\\blues\\Andrew Christopher Smith -...</td>\n      <td>danielson-gambogi-elin_pianospelare-1907.jpg</td>\n      <td>0.271812</td>\n      <td>blues</td>\n    </tr>\n    <tr>\n      <th>2</th>\n      <td>0</td>\n      <td>491</td>\n      <td>../data/music\\blues\\Andrew Christopher Smith -...</td>\n      <td>william-merritt-chase_the-song.jpg</td>\n      <td>0.213920</td>\n      <td>blues</td>\n    </tr>\n  </tbody>\n</table>\n</div>"
     },
     "execution_count": 12,
     "metadata": {},
     "output_type": "execute_result"
    }
   ],
   "source": [
    "res_df = pd.DataFrame(results)\n",
    "res_df[\"genre\"] = res_df[\"audio_path\"].apply(lambda x: x.split(\"\\\\\")[-2])\n",
    "res_df.head(3)"
   ],
   "metadata": {
    "collapsed": false,
    "ExecuteTime": {
     "end_time": "2025-01-24T00:51:38.821441800Z",
     "start_time": "2025-01-24T00:51:38.807057800Z"
    }
   }
  },
  {
   "cell_type": "code",
   "execution_count": 13,
   "outputs": [],
   "source": [
    "# join with genre_df\n",
    "final_df = res_df.merge(images_genre_df, left_on='image_path', right_on='image_path')"
   ],
   "metadata": {
    "collapsed": false,
    "ExecuteTime": {
     "end_time": "2025-01-24T00:51:41.214876500Z",
     "start_time": "2025-01-24T00:51:41.182580Z"
    }
   }
  },
  {
   "cell_type": "code",
   "execution_count": 14,
   "outputs": [],
   "source": [
    "final_df = final_df[['audio_id', 'image_id', 'audio_path', 'image_path', 'genre_x', 'score_x', 'genre_y', 'score_y']]\n",
    "final_df.rename(columns={'genre_x': 'audio_genre', 'score_x': 'audio_score', 'genre_y': 'image_genre', 'score_y': 'image_score'}, inplace=True)"
   ],
   "metadata": {
    "collapsed": false,
    "ExecuteTime": {
     "end_time": "2025-01-24T00:51:41.394539Z",
     "start_time": "2025-01-24T00:51:41.362803700Z"
    }
   }
  },
  {
   "cell_type": "code",
   "execution_count": 15,
   "outputs": [],
   "source": [
    "# gruop by audio_id and get the top-5 image_id\n",
    "final_df = final_df.sort_values(by=['audio_id', 'audio_score', 'image_score'], ascending=False)"
   ],
   "metadata": {
    "collapsed": false,
    "ExecuteTime": {
     "end_time": "2025-01-24T00:51:41.579610700Z",
     "start_time": "2025-01-24T00:51:41.543434200Z"
    }
   }
  },
  {
   "cell_type": "code",
   "execution_count": 16,
   "outputs": [
    {
     "name": "stdout",
     "output_type": "stream",
     "text": [
      "Top-1 genre accuracy: 0.24\n",
      "Top-2 genre accuracy: 0.42\n",
      "Top-3 genre accuracy: 0.44\n",
      "Top-5 genre accuracy: 0.58\n"
     ]
    }
   ],
   "source": [
    "for k in [1, 2, 3, 5]:\n",
    "    grouped_df = final_df.groupby('audio_id').head(k)\n",
    "    y_pred = grouped_df['audio_genre'].to_numpy()\n",
    "    y_true = grouped_df['image_genre'].to_numpy()\n",
    "    print(f\"Top-{k} genre accuracy: {top_k_genre_accuracy(y_true, y_pred, k)}\")"
   ],
   "metadata": {
    "collapsed": false,
    "ExecuteTime": {
     "end_time": "2025-01-24T00:51:42.620388800Z",
     "start_time": "2025-01-24T00:51:42.592704500Z"
    }
   }
  }
 ],
 "metadata": {
  "kernelspec": {
   "display_name": "Python 3",
   "language": "python",
   "name": "python3"
  },
  "language_info": {
   "codemirror_mode": {
    "name": "ipython",
    "version": 2
   },
   "file_extension": ".py",
   "mimetype": "text/x-python",
   "name": "python",
   "nbconvert_exporter": "python",
   "pygments_lexer": "ipython2",
   "version": "2.7.6"
  }
 },
 "nbformat": 4,
 "nbformat_minor": 0
}
